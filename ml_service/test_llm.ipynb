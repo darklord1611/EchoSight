{
 "cells": [
  {
   "cell_type": "code",
   "execution_count": null,
   "metadata": {},
   "outputs": [],
   "source": [
    "from google import genai\n",
    "from google.genai.types import Tool, GenerateContentConfig, GoogleSearch\n",
    "\n",
    "client = genai.Client()\n",
    "model_id = \"gemini-2.0-flash\"\n",
    "\n",
    "google_search_tool = Tool(\n",
    "    google_search = GoogleSearch()\n",
    ")\n",
    "\n",
    "response = client.models.generate_content(\n",
    "    model=model_id,\n",
    "    contents=\"When is the next total solar eclipse in the United States?\",\n",
    "    config=GenerateContentConfig(\n",
    "        tools=[google_search_tool],\n",
    "        response_modalities=[\"TEXT\"],\n",
    "    )\n",
    ")"
   ]
  },
  {
   "cell_type": "code",
   "execution_count": 2,
   "metadata": {},
   "outputs": [
    {
     "name": "stdout",
     "output_type": "stream",
     "text": [
      "📰 Energy demands from AI datacentres to quadruple by 2030 ...\n",
      "🔗 https://www.theguardian.com/technology/2025/apr/10/energy-demands-from-ai-datacentres-to-quadruple-by-2030-says-report\n",
      "\n",
      "📰 Call to make tech firms report data centre energy use as AI ...\n",
      "🔗 https://www.theguardian.com/technology/2025/feb/07/call-to-make-tech-firms-report-data-centre-energy-use-as-ai-booms\n",
      "\n",
      "📰 Trump's AI infrastructure plans could face delays due to ...\n",
      "🔗 https://www.theguardian.com/us-news/2025/apr/15/trump-texas-ai-infrastructure-republicans\n",
      "\n"
     ]
    }
   ],
   "source": [
    "import os\n",
    "import requests\n",
    "\n",
    "# Set your SerpAPI key in the environment or directly in code\n",
    "SERPAPI_API_KEY = os.getenv(\"SERPAPI_API_KEY\")  # or just hardcode it like: \"your_api_key_here\"\n",
    "\n",
    "def serpapi_search(query, num_results=3):\n",
    "    params = {\n",
    "        \"q\": query,\n",
    "        \"api_key\": SERPAPI_API_KEY,\n",
    "        \"engine\": \"google\",\n",
    "        \"num\": num_results\n",
    "    }\n",
    "\n",
    "    response = requests.get(\"https://serpapi.com/search\", params=params)\n",
    "    data = response.json()\n",
    "\n",
    "    results = []\n",
    "    if \"organic_results\" in data:\n",
    "        for result in data[\"organic_results\"][:num_results]:\n",
    "            title = result.get(\"title\")\n",
    "            link = result.get(\"link\")\n",
    "            results.append((title, link))\n",
    "\n",
    "    return results\n",
    "\n",
    "# Example usage\n",
    "if __name__ == \"__main__\":\n",
    "    query = \"AI data center energy report site:theguardian.com 2025\"\n",
    "    articles = serpapi_search(query)\n",
    "    for title, url in articles:\n",
    "        print(f\"📰 {title}\\n🔗 {url}\\n\")\n"
   ]
  },
  {
   "cell_type": "code",
   "execution_count": null,
   "metadata": {},
   "outputs": [],
   "source": []
  }
 ],
 "metadata": {
  "language_info": {
   "name": "python"
  }
 },
 "nbformat": 4,
 "nbformat_minor": 2
}
